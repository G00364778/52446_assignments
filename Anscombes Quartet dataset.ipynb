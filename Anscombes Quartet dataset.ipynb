{
 "cells": [
  {
   "cell_type": "markdown",
   "metadata": {},
   "source": [
    "# Anscombe’s quartet dataset"
   ]
  },
  {
   "cell_type": "markdown",
   "metadata": {},
   "source": [
    "- Explain the background to the dataset – who created it, when it was created, and any speculation you can find regarding how it might have been created.\n",
    "- Plot the interesting aspects of the dataset.\n",
    "- Calculate the descriptive statistics of the variables in the dataset.\n",
    "- Explain why the dataset is interesting, referring to the plots and statistics above."
   ]
  },
  {
   "cell_type": "markdown",
   "metadata": {},
   "source": [
    "## Background of the datasets\n",
    "\n",
    "Francis Anscombe published a paper in 1973 using four datasets with similar summary statistcs but very different looking dataplots illustrating the mportance of graphing data for visual comparison, disputing the idea that graphs are rough but numerical calculations are exact.\n",
    "\n",
    "The idea is that statistical descriptions can summerise and even reproduce a dataset without the need of the entire dataset representing itself like in a grapical form or in other words that a dataset can be recreated from the summary statistics.\n",
    "\n",
    "It is not known how Anscombe came up with his datasets. It was probably a very time consuming excercise generating four datasets with similar statistical summeries. One can only imagine starting our with the first set and generating the summary statistics and the working back from the statistics generating calculated datapoints to produce similar statistics."
   ]
  },
  {
   "cell_type": "markdown",
   "metadata": {},
   "source": [
    "## References\n",
    "\n",
    "1. __[Arguining for Graphics in 1973](https://eagereyes.org/criticism/anscombes-quartet)__\n",
    "2. __[Anscombe's Paper](https://www.jstor.org/stable/2682899)__"
   ]
  },
  {
   "cell_type": "code",
   "execution_count": null,
   "metadata": {},
   "outputs": [],
   "source": []
  }
 ],
 "metadata": {
  "kernelspec": {
   "display_name": "Python 3",
   "language": "python",
   "name": "python3"
  },
  "language_info": {
   "codemirror_mode": {
    "name": "ipython",
    "version": 3
   },
   "file_extension": ".py",
   "mimetype": "text/x-python",
   "name": "python",
   "nbconvert_exporter": "python",
   "pygments_lexer": "ipython3",
   "version": "3.6.5"
  }
 },
 "nbformat": 4,
 "nbformat_minor": 2
}
